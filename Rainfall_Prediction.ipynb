{
  "nbformat": 4,
  "nbformat_minor": 0,
  "metadata": {
    "colab": {
      "provenance": [],
      "authorship_tag": "ABX9TyOKS4nkQCxAPQFyUhwa0O3k",
      "include_colab_link": true
    },
    "kernelspec": {
      "name": "python3",
      "display_name": "Python 3"
    },
    "language_info": {
      "name": "python"
    }
  },
  "cells": [
    {
      "cell_type": "markdown",
      "metadata": {
        "id": "view-in-github",
        "colab_type": "text"
      },
      "source": [
        "<a href=\"https://colab.research.google.com/github/jkajatin/Rainfall_Prediction/blob/main/Rainfall_Prediction.ipynb\" target=\"_parent\"><img src=\"https://colab.research.google.com/assets/colab-badge.svg\" alt=\"Open In Colab\"/></a>"
      ]
    },
    {
      "cell_type": "markdown",
      "source": [
        "#**Rainfall Prediction System**"
      ],
      "metadata": {
        "id": "4ZVefGS16Gsr"
      }
    },
    {
      "cell_type": "code",
      "execution_count": 2,
      "metadata": {
        "id": "B-zga0D04Q6D"
      },
      "outputs": [],
      "source": [
        "import pandas as pd\n",
        "import matplotlib.pyplot as plt\n",
        "import seaborn as sns\n",
        "from sklearn.model_selection import train_test_split\n",
        "from sklearn.linear_model import LinearRegression, LogisticRegression\n",
        "from sklearn.metrics import mean_absolute_error, accuracy_score, confusion_matrix, classification_report\n",
        "\n",
        "# Step 1: Load Dataset\n",
        "df = pd.read_csv('weatherAUS.csv')\n"
      ]
    },
    {
      "cell_type": "code",
      "source": [
        "# Step 2: Preprocessing\n",
        "df['Date'] = pd.to_datetime(df['Date'])\n",
        "df['Month'] = df['Date'].dt.month\n",
        "df['Year'] = df['Date'].dt.year\n",
        "\n",
        "# Handle missing values\n",
        "df.fillna(method='ffill', inplace=True)"
      ],
      "metadata": {
        "colab": {
          "base_uri": "https://localhost:8080/"
        },
        "id": "lvwswRBh5NcS",
        "outputId": "6d17d09b-af21-46be-cbf1-538705d7ff77"
      },
      "execution_count": 5,
      "outputs": [
        {
          "output_type": "stream",
          "name": "stderr",
          "text": [
            "/tmp/ipython-input-5-465310589.py:7: FutureWarning: DataFrame.fillna with 'method' is deprecated and will raise in a future version. Use obj.ffill() or obj.bfill() instead.\n",
            "  df.fillna(method='ffill', inplace=True)\n"
          ]
        }
      ]
    },
    {
      "cell_type": "code",
      "source": [
        "# Binary Classification Target: Rain or No Rain\n",
        "# You can set threshold as needed, e.g., > 0 mm = Rain\n",
        "df['RainToday'] = df['Rainfall'].apply(lambda x: 1 if x > 0 else 0)\n",
        "\n",
        "# Features\n",
        "features = ['Humidity9am', 'WindSpeed9am', 'Pressure9am', 'Temp9am']\n",
        "X = df[features]\n",
        "\n",
        "# Regression Target\n",
        "y_regression = df['Rainfall']\n",
        "\n",
        "# Classification Target\n",
        "y_classification = df['RainToday']"
      ],
      "metadata": {
        "id": "a3pp36eI5VzQ"
      },
      "execution_count": 6,
      "outputs": []
    },
    {
      "cell_type": "code",
      "source": [
        "# Step 3: Train-Test Split\n",
        "X_train, X_test, y_train_reg, y_test_reg = train_test_split(X, y_regression, test_size=0.2, random_state=42)\n",
        "_, _, y_train_class, y_test_class = train_test_split(X, y_classification, test_size=0.2, random_state=42)\n",
        "\n",
        "# Step 4: Regression Model for Rainfall Amount\n",
        "reg_model = LinearRegression()\n",
        "reg_model.fit(X_train, y_train_reg)\n",
        "\n",
        "# Evaluation\n",
        "y_pred_reg = reg_model.predict(X_test)\n",
        "mae = mean_absolute_error(y_test_reg, y_pred_reg)\n",
        "print(f\"\\nMean Absolute Error for Rainfall Amount Prediction: {mae:.2f} mm\")"
      ],
      "metadata": {
        "colab": {
          "base_uri": "https://localhost:8080/"
        },
        "id": "Mm4ZHYGq5pL-",
        "outputId": "ba313c54-b42a-4876-df5b-ce972f3a2fb2"
      },
      "execution_count": 7,
      "outputs": [
        {
          "output_type": "stream",
          "name": "stdout",
          "text": [
            "\n",
            "Mean Absolute Error for Rainfall Amount Prediction: 3.50 mm\n"
          ]
        }
      ]
    },
    {
      "cell_type": "code",
      "source": [
        "# Step 5: Classification Model for Rain or No Rain\n",
        "class_model = LogisticRegression()\n",
        "class_model.fit(X_train, y_train_class)\n",
        "\n",
        "# Evaluation\n",
        "y_pred_class = class_model.predict(X_test)\n",
        "acc = accuracy_score(y_test_class, y_pred_class)\n",
        "print(f\"Classification Accuracy (Rain/No Rain): {acc*100:.2f}%\")\n",
        "\n",
        "# Confusion Matrix\n",
        "print(\"\\nConfusion Matrix:\")\n",
        "print(confusion_matrix(y_test_class, y_pred_class))\n",
        "print(\"\\nClassification Report:\")\n",
        "print(classification_report(y_test_class, y_pred_class))"
      ],
      "metadata": {
        "colab": {
          "base_uri": "https://localhost:8080/"
        },
        "id": "DOUFfZOh5tF1",
        "outputId": "bb5f5c1e-9756-40d0-8217-e616501f87c8"
      },
      "execution_count": 8,
      "outputs": [
        {
          "output_type": "stream",
          "name": "stdout",
          "text": [
            "Classification Accuracy (Rain/No Rain): 74.55%\n",
            "\n",
            "Confusion Matrix:\n",
            "[[16062  2535]\n",
            " [ 4868  5627]]\n",
            "\n",
            "Classification Report:\n",
            "              precision    recall  f1-score   support\n",
            "\n",
            "           0       0.77      0.86      0.81     18597\n",
            "           1       0.69      0.54      0.60     10495\n",
            "\n",
            "    accuracy                           0.75     29092\n",
            "   macro avg       0.73      0.70      0.71     29092\n",
            "weighted avg       0.74      0.75      0.74     29092\n",
            "\n"
          ]
        }
      ]
    },
    {
      "cell_type": "code",
      "source": [
        "# Step 6: Prediction for New Inputs\n",
        "print(\"\\n--- Rainfall Prediction System ---\")\n",
        "humidity = float(input(\"Enter Humidity (%): \"))\n",
        "wind_speed = float(input(\"Enter Wind Speed (km/h): \"))\n",
        "pressure = float(input(\"Enter Pressure (hPa): \"))\n",
        "temperature = float(input(\"Enter Temperature (°C): \"))\n",
        "\n",
        "new_input = [[humidity, wind_speed, pressure, temperature]]\n",
        "\n",
        "# Predict Rainfall Amount\n",
        "predicted_rainfall = reg_model.predict(new_input)[0]\n",
        "\n",
        "# Predict Rain or No Rain\n",
        "rain_or_no_rain = class_model.predict(new_input)[0]\n",
        "rain_label = \"Rain Expected\" if rain_or_no_rain == 1 else \"No Rain Expected\"\n",
        "\n",
        "# Display Results\n",
        "print(f\"\\nPredicted Rainfall Amount: {predicted_rainfall:.2f} mm\")\n",
        "print(f\"Rain or No Rain Prediction: {rain_label}\")"
      ],
      "metadata": {
        "colab": {
          "base_uri": "https://localhost:8080/"
        },
        "id": "JQ4AcGuK54y4",
        "outputId": "f0b129cb-77eb-421a-f52a-f8f085751581"
      },
      "execution_count": 9,
      "outputs": [
        {
          "output_type": "stream",
          "name": "stdout",
          "text": [
            "\n",
            "--- Rainfall Prediction System ---\n",
            "Enter Humidity (%): 34\n",
            "Enter Wind Speed (km/h): 13\n",
            "Enter Pressure (hPa): 1860\n",
            "Enter Temperature (°C): 45\n",
            "\n",
            "Predicted Rainfall Amount: -138.71 mm\n",
            "Rain or No Rain Prediction: No Rain Expected\n"
          ]
        },
        {
          "output_type": "stream",
          "name": "stderr",
          "text": [
            "/usr/local/lib/python3.11/dist-packages/sklearn/utils/validation.py:2739: UserWarning: X does not have valid feature names, but LinearRegression was fitted with feature names\n",
            "  warnings.warn(\n",
            "/usr/local/lib/python3.11/dist-packages/sklearn/utils/validation.py:2739: UserWarning: X does not have valid feature names, but LogisticRegression was fitted with feature names\n",
            "  warnings.warn(\n"
          ]
        }
      ]
    },
    {
      "cell_type": "code",
      "source": [],
      "metadata": {
        "id": "K_Bv-pyH581W"
      },
      "execution_count": null,
      "outputs": []
    }
  ]
}